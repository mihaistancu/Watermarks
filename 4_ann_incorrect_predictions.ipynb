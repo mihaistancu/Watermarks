{
 "cells": [
  {
   "cell_type": "code",
   "execution_count": 1,
   "metadata": {
    "collapsed": false
   },
   "outputs": [
    {
     "data": {
      "image/png": "[encoded data removed]",
      "text/plain": [
       "<matplotlib.figure.Figure at 0x7f54931dd898>"
      ]
     },
     "metadata": {},
     "output_type": "display_data"
    },
    {
     "data": {
      "text/plain": [
       "<matplotlib.figure.Figure at 0x7f54c8301dd8>"
      ]
     },
     "metadata": {},
     "output_type": "display_data"
    },
    {
     "data": {
      "text/plain": [
       "0.9994623655913979"
      ]
     },
     "execution_count": 1,
     "metadata": {},
     "output_type": "execute_result"
    }
   ],
   "source": [
    "%matplotlib inline \n",
    "\n",
    "from sklearn.externals import joblib\n",
    "x_train, x_test, y_train, y_test = joblib.load('dataset.pkl')\n",
    "\n",
    "clf = joblib.load('ann_model.pkl')\n",
    "\n",
    "import numpy as np\n",
    "import matplotlib.pyplot as plt\n",
    "\n",
    "clf.predict([x_train[0]])\n",
    "\n",
    "import os    \n",
    "files = sorted(os.listdir('patterns'))\n",
    "\n",
    "def pattern(index):\n",
    "    import scipy.misc\n",
    "    \n",
    "    if (index >= len(files)):\n",
    "        return np.ones((64,64))\n",
    "    \n",
    "    return scipy.misc.imread('patterns/' + files[index], flatten=True)/255\n",
    "\n",
    "count = 0\n",
    "\n",
    "for x,y in zip( x_test,  y_test):\n",
    "    predicted = clf.predict([x])\n",
    "    \n",
    "    if predicted != [y]:\n",
    "        count += 1\n",
    "        \n",
    "        plt.imshow(np.concatenate((x.reshape(64,64), pattern(predicted[0]), pattern(y)), axis=1))\n",
    "        plt.figure()\n",
    "        \n",
    "plt.show()\n",
    "\n",
    "(len(x_test) - count) /len(x_test)"
   ]
  }
 ],
 "metadata": {
  "kernelspec": {
   "display_name": "Python [conda root]",
   "language": "python",
   "name": "conda-root-py"
  },
  "language_info": {
   "codemirror_mode": {
    "name": "ipython",
    "version": 3
   },
   "file_extension": ".py",
   "mimetype": "text/x-python",
   "name": "python",
   "nbconvert_exporter": "python",
   "pygments_lexer": "ipython3",
   "version": "3.5.2"
  }
 },
 "nbformat": 4,
 "nbformat_minor": 2
}
