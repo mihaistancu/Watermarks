{
 "cells": [
  {
   "cell_type": "code",
   "execution_count": 5,
   "metadata": {
    "collapsed": false
   },
   "outputs": [],
   "source": [
    "from myutils import generate_dataset\n",
    "x, y = generate_dataset()"
   ]
  },
  {
   "cell_type": "code",
   "execution_count": 6,
   "metadata": {
    "collapsed": false
   },
   "outputs": [],
   "source": [
    "from sklearn.model_selection import train_test_split\n",
    "x_train, x_test, y_train, y_test = train_test_split(x, y, test_size=0.2)"
   ]
  },
  {
   "cell_type": "code",
   "execution_count": 7,
   "metadata": {
    "collapsed": false,
    "scrolled": true
   },
   "outputs": [
    {
     "name": "stderr",
     "output_type": "stream",
     "text": [
      "C:\\Users\\Mihai.Stancu\\AppData\\Local\\Continuum\\Anaconda3\\lib\\site-packages\\sklearn\\neural_network\\multilayer_perceptron.py:563: ConvergenceWarning: Stochastic Optimizer: Maximum iterations reached and the optimization hasn't converged yet.\n",
      "  % (), ConvergenceWarning)\n"
     ]
    },
    {
     "data": {
      "text/plain": [
       "{'mean_fit_time': array([ 0.27164523,  0.26637014,  0.33440725,  0.27553415,  0.26718267,\n",
       "         0.27024881,  7.46582985,  6.44650388,  0.27727985,  0.27803461,\n",
       "         0.35629002,  0.28700352,  2.10056138,  0.2740643 ,  8.56557798,\n",
       "         8.4875799 ]),\n",
       " 'mean_score_time': array([ 0.0056715 ,  0.00583696,  0.00583688,  0.00600362,  0.00566999,\n",
       "         0.00550302,  0.00583752,  0.0058368 ,  0.00617027,  0.00633812,\n",
       "         0.00599893,  0.00650573,  0.00550373,  0.00600378,  0.00616423,\n",
       "         0.00533636]),\n",
       " 'mean_test_score': array([ 0.253125,  0.25625 ,  0.25    ,  0.24375 ,  0.25625 ,  0.34375 ,\n",
       "         0.96875 ,  0.78125 ,  0.253125,  0.246875,  0.253125,  0.24375 ,\n",
       "         0.48125 ,  0.246875,  0.753125,  0.76875 ]),\n",
       " 'mean_train_score': array([ 0.25944494,  0.25627896,  0.26237661,  0.2452648 ,  0.28272249,\n",
       "         0.34974456,  1.        ,  0.81042654,  0.25477204,  0.24368502,\n",
       "         0.25477204,  0.24529337,  0.49932033,  0.24680029,  0.75503876,\n",
       "         0.80252765]),\n",
       " 'param_activation': masked_array(data = ['relu' 'relu' 'relu' 'relu' 'relu' 'relu' 'relu' 'relu' 'logistic'\n",
       "  'logistic' 'logistic' 'logistic' 'logistic' 'logistic' 'logistic'\n",
       "  'logistic'],\n",
       "              mask = [False False False False False False False False False False False False\n",
       "  False False False False],\n",
       "        fill_value = ?),\n",
       " 'param_learning_rate_init': masked_array(data = [1 1 0.1 0.1 0.01 0.01 0.001 0.001 1 1 0.1 0.1 0.01 0.01 0.001 0.001],\n",
       "              mask = [False False False False False False False False False False False False\n",
       "  False False False False],\n",
       "        fill_value = ?),\n",
       " 'param_momentum': masked_array(data = [0.5 0.9 0.5 0.9 0.5 0.9 0.5 0.9 0.5 0.9 0.5 0.9 0.5 0.9 0.5 0.9],\n",
       "              mask = [False False False False False False False False False False False False\n",
       "  False False False False],\n",
       "        fill_value = ?),\n",
       " 'params': ({'activation': 'relu', 'learning_rate_init': 1, 'momentum': 0.5},\n",
       "  {'activation': 'relu', 'learning_rate_init': 1, 'momentum': 0.9},\n",
       "  {'activation': 'relu', 'learning_rate_init': 0.1, 'momentum': 0.5},\n",
       "  {'activation': 'relu', 'learning_rate_init': 0.1, 'momentum': 0.9},\n",
       "  {'activation': 'relu', 'learning_rate_init': 0.01, 'momentum': 0.5},\n",
       "  {'activation': 'relu', 'learning_rate_init': 0.01, 'momentum': 0.9},\n",
       "  {'activation': 'relu', 'learning_rate_init': 0.001, 'momentum': 0.5},\n",
       "  {'activation': 'relu', 'learning_rate_init': 0.001, 'momentum': 0.9},\n",
       "  {'activation': 'logistic', 'learning_rate_init': 1, 'momentum': 0.5},\n",
       "  {'activation': 'logistic', 'learning_rate_init': 1, 'momentum': 0.9},\n",
       "  {'activation': 'logistic', 'learning_rate_init': 0.1, 'momentum': 0.5},\n",
       "  {'activation': 'logistic', 'learning_rate_init': 0.1, 'momentum': 0.9},\n",
       "  {'activation': 'logistic', 'learning_rate_init': 0.01, 'momentum': 0.5},\n",
       "  {'activation': 'logistic', 'learning_rate_init': 0.01, 'momentum': 0.9},\n",
       "  {'activation': 'logistic', 'learning_rate_init': 0.001, 'momentum': 0.5},\n",
       "  {'activation': 'logistic', 'learning_rate_init': 0.001, 'momentum': 0.9}),\n",
       " 'rank_test_score': array([ 9,  7, 12, 15,  7,  6,  1,  2,  9, 13,  9, 15,  5, 13,  4,  3]),\n",
       " 'split0_test_score': array([ 0.26605505,  0.26605505,  0.23853211,  0.2293578 ,  0.26605505,\n",
       "         0.26605505,  0.98165138,  0.42201835,  0.26605505,  0.23853211,\n",
       "         0.26605505,  0.23853211,  0.26605505,  0.23853211,  0.99082569,\n",
       "         0.35779817]),\n",
       " 'split0_train_score': array([ 0.26540284,  0.26540284,  0.23696682,  0.24170616,  0.26540284,\n",
       "         0.27014218,  1.        ,  0.43127962,  0.26540284,  0.23696682,\n",
       "         0.26540284,  0.23696682,  0.26540284,  0.23696682,  1.        ,\n",
       "         0.40758294]),\n",
       " 'split1_test_score': array([ 0.26415094,  0.23584906,  0.24528302,  0.23584906,  0.26415094,\n",
       "         0.5       ,  0.96226415,  0.96226415,  0.26415094,  0.23584906,\n",
       "         0.26415094,  0.26415094,  0.95283019,  0.23584906,  0.99056604,\n",
       "         0.99056604]),\n",
       " 'split1_train_score': array([ 0.28037383,  0.23831776,  0.28504673,  0.22897196,  0.29439252,\n",
       "         0.5046729 ,  1.        ,  1.        ,  0.26635514,  0.22897196,\n",
       "         0.26635514,  0.26635514,  1.        ,  0.23831776,  1.        ,  1.        ]),\n",
       " 'split2_test_score': array([ 0.22857143,  0.26666667,  0.26666667,  0.26666667,  0.23809524,\n",
       "         0.26666667,  0.96190476,  0.97142857,  0.22857143,  0.26666667,\n",
       "         0.22857143,  0.22857143,  0.22857143,  0.26666667,  0.26666667,\n",
       "         0.97142857]),\n",
       " 'split2_train_score': array([ 0.23255814,  0.26511628,  0.26511628,  0.26511628,  0.28837209,\n",
       "         0.2744186 ,  1.        ,  1.        ,  0.23255814,  0.26511628,\n",
       "         0.23255814,  0.23255814,  0.23255814,  0.26511628,  0.26511628,  1.        ]),\n",
       " 'std_fit_time': array([  2.11077262e-03,   3.08399970e-03,   8.83416944e-02,\n",
       "          3.11593243e-03,   5.89705262e-03,   2.08450941e-03,\n",
       "          1.07552238e+00,   4.24050396e+00,   2.30374663e-03,\n",
       "          5.67292990e-03,   8.90610884e-02,   6.15527510e-03,\n",
       "          2.26075676e+00,   9.59655454e-03,   5.87412078e+00,\n",
       "          5.83418140e+00]),\n",
       " 'std_score_time': array([ 0.00023771,  0.00023535,  0.00023563,  0.00040861,  0.00023608,\n",
       "         0.00040851,  0.00047233,  0.00062594,  0.00023552,  0.00023619,\n",
       "         0.00040298,  0.00081702,  0.00040861,  0.00040861,  0.00024041,\n",
       "         0.00062422]),\n",
       " 'std_test_score': array([ 0.01717666,  0.01436025,  0.01197132,  0.01623442,  0.01271118,\n",
       "         0.10996822,  0.00927389,  0.25822109,  0.01717666,  0.01387477,\n",
       "         0.01717666,  0.01492435,  0.33224925,  0.01387477,  0.33995473,\n",
       "         0.29546984]),\n",
       " 'std_train_score': array([ 0.0199701 ,  0.01270103,  0.0197239 ,  0.01496888,  0.01249103,\n",
       "         0.10956479,  0.        ,  0.26809736,  0.01571241,  0.01550169,\n",
       "         0.01571241,  0.01500128,  0.35428782,  0.0129631 ,  0.34642751,\n",
       "         0.27926808])}"
      ]
     },
     "execution_count": 7,
     "metadata": {},
     "output_type": "execute_result"
    }
   ],
   "source": [
    "from sklearn.model_selection import GridSearchCV\n",
    "from sklearn.neural_network import MLPClassifier\n",
    "\n",
    "tuned_parameters = [{'activation':['relu','logistic'], \n",
    "                     'learning_rate_init':[1, 0.1, 0.01, 0.001],\n",
    "                     'momentum':[0.5, 0.9]}]\n",
    "\n",
    "clf = GridSearchCV(MLPClassifier(), tuned_parameters)\n",
    "clf.fit(x_train, y_train)\n",
    "\n",
    "clf.cv_results_"
   ]
  },
  {
   "cell_type": "code",
   "execution_count": 8,
   "metadata": {
    "collapsed": false
   },
   "outputs": [
    {
     "data": {
      "text/plain": [
       "'             precision    recall  f1-score   support\\n\\n          0       1.00      1.00      1.00        24\\n          1       0.88      1.00      0.94        15\\n          2       1.00      1.00      1.00        26\\n          3       1.00      0.87      0.93        15\\n\\navg / total       0.98      0.97      0.97        80\\n'"
      ]
     },
     "execution_count": 8,
     "metadata": {},
     "output_type": "execute_result"
    }
   ],
   "source": [
    "expected, predicted = y_test, clf.predict(x_test)\n",
    "\n",
    "from sklearn.metrics import classification_report\n",
    "classification_report(expected, predicted)"
   ]
  },
  {
   "cell_type": "code",
   "execution_count": 10,
   "metadata": {
    "collapsed": false
   },
   "outputs": [
    {
     "data": {
      "text/plain": [
       "0.97499999999999998"
      ]
     },
     "execution_count": 10,
     "metadata": {},
     "output_type": "execute_result"
    }
   ],
   "source": [
    "from sklearn.metrics import accuracy_score\n",
    "accuracy_score(expected, predicted)"
   ]
  }
 ],
 "metadata": {
  "kernelspec": {
   "display_name": "Python 3",
   "language": "python",
   "name": "python3"
  },
  "language_info": {
   "codemirror_mode": {
    "name": "ipython",
    "version": 3
   },
   "file_extension": ".py",
   "mimetype": "text/x-python",
   "name": "python",
   "nbconvert_exporter": "python",
   "pygments_lexer": "ipython3",
   "version": "3.6.0"
  }
 },
 "nbformat": 4,
 "nbformat_minor": 2
}
