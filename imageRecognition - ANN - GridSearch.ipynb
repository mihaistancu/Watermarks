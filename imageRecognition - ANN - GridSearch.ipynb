{
 "cells": [
  {
   "cell_type": "code",
   "execution_count": 1,
   "metadata": {
    "collapsed": false
   },
   "outputs": [],
   "source": [
    "from myutils import generate_dataset\n",
    "x, y = generate_dataset()"
   ]
  },
  {
   "cell_type": "code",
   "execution_count": 2,
   "metadata": {
    "collapsed": false
   },
   "outputs": [],
   "source": [
    "from sklearn.model_selection import train_test_split\n",
    "x_train, x_test, y_train, y_test = train_test_split(x, y, test_size=0.2)"
   ]
  },
  {
   "cell_type": "code",
   "execution_count": 3,
   "metadata": {
    "collapsed": false,
    "scrolled": true
   },
   "outputs": [
    {
     "data": {
      "text/plain": [
       "{'mean_fit_time': array([ 24.76039163,  14.16191006,   4.37855212,   4.86056296,\n",
       "         11.02708642,  11.74884097,  15.43919555,  15.67212272,\n",
       "          4.1686856 ,   4.57599433,   7.08592033,   6.66193994,\n",
       "         15.96030219,  15.21692101,  34.64391009,  35.05391979]),\n",
       " 'mean_score_time': array([ 0.05294347,  0.05249659,  0.05249023,  0.06192597,  0.05304193,\n",
       "         0.05492814,  0.0549101 ,  0.05147688,  0.05599284,  0.05525438,\n",
       "         0.0548377 ,  0.06164781,  0.05650711,  0.05798713,  0.05685441,\n",
       "         0.05944856]),\n",
       " 'mean_test_score': array([ 0.01156915,  0.01130319,  0.01875   ,  0.01768617,  0.95478723,\n",
       "         0.95638298,  0.98789894,  0.98723404,  0.02726064,  0.0206117 ,\n",
       "         0.35212766,  0.44667553,  0.99069149,  0.99175532,  0.99454787,\n",
       "         0.99414894]),\n",
       " 'mean_train_score': array([ 0.01123504,  0.01164226,  0.01970657,  0.01882838,  1.        ,\n",
       "         1.        ,  1.        ,  1.        ,  0.02770533,  0.02060346,\n",
       "         0.36422095,  0.4657878 ,  1.        ,  1.        ,  1.        ,  1.        ]),\n",
       " 'param_activation': masked_array(data = ['relu' 'relu' 'relu' 'relu' 'relu' 'relu' 'relu' 'relu' 'logistic'\n",
       "  'logistic' 'logistic' 'logistic' 'logistic' 'logistic' 'logistic'\n",
       "  'logistic'],\n",
       "              mask = [False False False False False False False False False False False False\n",
       "  False False False False],\n",
       "        fill_value = ?),\n",
       " 'param_learning_rate_init': masked_array(data = [1 1 0.1 0.1 0.01 0.01 0.001 0.001 1 1 0.1 0.1 0.01 0.01 0.001 0.001],\n",
       "              mask = [False False False False False False False False False False False False\n",
       "  False False False False],\n",
       "        fill_value = ?),\n",
       " 'param_momentum': masked_array(data = [0.5 0.9 0.5 0.9 0.5 0.9 0.5 0.9 0.5 0.9 0.5 0.9 0.5 0.9 0.5 0.9],\n",
       "              mask = [False False False False False False False False False False False False\n",
       "  False False False False],\n",
       "        fill_value = ?),\n",
       " 'params': ({'activation': 'relu', 'learning_rate_init': 1, 'momentum': 0.5},\n",
       "  {'activation': 'relu', 'learning_rate_init': 1, 'momentum': 0.9},\n",
       "  {'activation': 'relu', 'learning_rate_init': 0.1, 'momentum': 0.5},\n",
       "  {'activation': 'relu', 'learning_rate_init': 0.1, 'momentum': 0.9},\n",
       "  {'activation': 'relu', 'learning_rate_init': 0.01, 'momentum': 0.5},\n",
       "  {'activation': 'relu', 'learning_rate_init': 0.01, 'momentum': 0.9},\n",
       "  {'activation': 'relu', 'learning_rate_init': 0.001, 'momentum': 0.5},\n",
       "  {'activation': 'relu', 'learning_rate_init': 0.001, 'momentum': 0.9},\n",
       "  {'activation': 'logistic', 'learning_rate_init': 1, 'momentum': 0.5},\n",
       "  {'activation': 'logistic', 'learning_rate_init': 1, 'momentum': 0.9},\n",
       "  {'activation': 'logistic', 'learning_rate_init': 0.1, 'momentum': 0.5},\n",
       "  {'activation': 'logistic', 'learning_rate_init': 0.1, 'momentum': 0.9},\n",
       "  {'activation': 'logistic', 'learning_rate_init': 0.01, 'momentum': 0.5},\n",
       "  {'activation': 'logistic', 'learning_rate_init': 0.01, 'momentum': 0.9},\n",
       "  {'activation': 'logistic', 'learning_rate_init': 0.001, 'momentum': 0.5},\n",
       "  {'activation': 'logistic', 'learning_rate_init': 0.001, 'momentum': 0.9}),\n",
       " 'rank_test_score': array([15, 16, 13, 14,  8,  7,  5,  6, 11, 12, 10,  9,  4,  3,  1,  2], dtype=int32),\n",
       " 'split0_test_score': array([ 0.01101928,  0.01259347,  0.02597403,  0.02282566,  0.95631641,\n",
       "         0.97009052,  0.98740653,  0.9854388 ,  0.02243211,  0.02125148,\n",
       "         0.42817788,  0.46595828,  0.99212908,  0.99252263,  0.995671  ,\n",
       "         0.99409681]),\n",
       " 'split0_train_score': array([ 0.01104639,  0.01345652,  0.02771641,  0.02410123,  1.        ,\n",
       "         1.        ,  1.        ,  1.        ,  0.02390038,  0.01847761,\n",
       "         0.44265917,  0.48463547,  1.        ,  1.        ,  1.        ,  1.        ]),\n",
       " 'split1_test_score': array([ 0.01078706,  0.01078706,  0.01398322,  0.01278466,  0.95805034,\n",
       "         0.95045945,  0.98561726,  0.99081103,  0.02676788,  0.01797843,\n",
       "         0.20055933,  0.52337195,  0.99041151,  0.99041151,  0.99360767,\n",
       "         0.99400719]),\n",
       " 'split1_train_score': array([ 0.0107634 ,  0.01096273,  0.01474985,  0.01275663,  1.        ,\n",
       "         1.        ,  1.        ,  1.        ,  0.02531393,  0.02112816,\n",
       "         0.20809249,  0.54813634,  1.        ,  1.        ,  1.        ,  1.        ]),\n",
       " 'split2_test_score': array([ 0.01292407,  0.01050081,  0.01615509,  0.01736672,  0.94991922,\n",
       "         0.94830372,  0.99071082,  0.98546042,  0.03271405,  0.02261712,\n",
       "         0.4273021 ,  0.3493538 ,  0.98949919,  0.99232633,  0.99434572,\n",
       "         0.99434572]),\n",
       " 'split2_train_score': array([ 0.01189532,  0.01050753,  0.01665345,  0.01962728,  1.        ,\n",
       "         1.        ,  1.        ,  1.        ,  0.03390167,  0.0222046 ,\n",
       "         0.44191118,  0.36459159,  1.        ,  1.        ,  1.        ,  1.        ]),\n",
       " 'std_fit_time': array([ 10.49007793,   7.133428  ,   2.17292031,   0.91742644,\n",
       "          0.35646177,   1.40231391,   0.03699375,   0.83844392,\n",
       "          0.61977687,   1.07721754,   2.60710833,   1.56779871,\n",
       "          1.73489078,   0.87301253,   0.79145811,   0.92583028]),\n",
       " 'std_score_time': array([ 0.00063765,  0.00201353,  0.00131791,  0.00900108,  0.00352719,\n",
       "         0.00616749,  0.00252825,  0.0014184 ,  0.00145619,  0.0013451 ,\n",
       "         0.00127437,  0.00485821,  0.00106362,  0.00274528,  0.00120732,\n",
       "         0.00131444]),\n",
       " 'std_test_score': array([ 0.00095405,  0.00092908,  0.00523582,  0.00411771,  0.00348379,\n",
       "         0.00983163,  0.00210192,  0.00252655,  0.00421317,  0.00194177,\n",
       "         0.10705803,  0.07212558,  0.00109201,  0.00095256,  0.00085669,\n",
       "         0.00014267]),\n",
       " 'std_train_score': array([ 0.00048097,  0.00129626,  0.00571688,  0.00466574,  0.        ,\n",
       "         0.        ,  0.        ,  0.        ,  0.00441931,  0.00156612,\n",
       "         0.11039991,  0.07610779,  0.        ,  0.        ,  0.        ,  0.        ])}"
      ]
     },
     "execution_count": 3,
     "metadata": {},
     "output_type": "execute_result"
    }
   ],
   "source": [
    "from sklearn.model_selection import GridSearchCV\n",
    "from sklearn.neural_network import MLPClassifier\n",
    "\n",
    "tuned_parameters = [{'activation':['relu','logistic'], \n",
    "                     'learning_rate_init':[1, 0.1, 0.01, 0.001],\n",
    "                     'momentum':[0.5, 0.9]}]\n",
    "\n",
    "clf = GridSearchCV(MLPClassifier(), tuned_parameters)\n",
    "clf.fit(x_train, y_train)\n",
    "\n",
    "clf.cv_results_"
   ]
  },
  {
   "cell_type": "code",
   "execution_count": 4,
   "metadata": {
    "collapsed": false
   },
   "outputs": [
    {
     "data": {
      "text/plain": [
       "'             precision    recall  f1-score   support\\n\\n          0       1.00      1.00      1.00        20\\n          1       1.00      1.00      1.00        20\\n          2       1.00      1.00      1.00        19\\n          3       1.00      1.00      1.00        24\\n          4       1.00      1.00      1.00        26\\n          5       1.00      1.00      1.00        17\\n          6       1.00      1.00      1.00        15\\n          7       1.00      1.00      1.00        22\\n          8       1.00      1.00      1.00        26\\n          9       1.00      1.00      1.00        23\\n         10       1.00      1.00      1.00        21\\n         11       1.00      1.00      1.00        15\\n         12       1.00      1.00      1.00        16\\n         13       1.00      1.00      1.00        18\\n         14       0.95      1.00      0.98        21\\n         15       1.00      1.00      1.00        16\\n         16       0.95      1.00      0.98        21\\n         17       1.00      1.00      1.00        16\\n         18       1.00      1.00      1.00        17\\n         19       1.00      1.00      1.00        19\\n         20       0.95      1.00      0.98        21\\n         21       1.00      1.00      1.00        27\\n         22       1.00      1.00      1.00        23\\n         23       1.00      1.00      1.00        18\\n         24       1.00      1.00      1.00        20\\n         25       1.00      1.00      1.00        18\\n         26       1.00      1.00      1.00        14\\n         27       1.00      1.00      1.00        18\\n         28       1.00      1.00      1.00        17\\n         29       0.90      1.00      0.95        18\\n         30       1.00      1.00      1.00        10\\n         31       1.00      1.00      1.00        17\\n         32       1.00      1.00      1.00        24\\n         33       1.00      1.00      1.00        24\\n         34       1.00      0.96      0.98        25\\n         35       1.00      1.00      1.00        24\\n         36       1.00      1.00      1.00        17\\n         37       1.00      1.00      1.00        19\\n         38       1.00      1.00      1.00        17\\n         39       1.00      1.00      1.00        17\\n         40       1.00      1.00      1.00        19\\n         41       1.00      1.00      1.00        24\\n         42       1.00      1.00      1.00        14\\n         43       1.00      1.00      1.00        21\\n         44       1.00      0.94      0.97        18\\n         45       1.00      1.00      1.00        19\\n         46       1.00      1.00      1.00        24\\n         47       1.00      1.00      1.00        18\\n         48       1.00      1.00      1.00        22\\n         49       1.00      1.00      1.00        28\\n         50       1.00      1.00      1.00        17\\n         51       1.00      1.00      1.00        24\\n         52       1.00      1.00      1.00        18\\n         53       1.00      1.00      1.00        29\\n         54       1.00      1.00      1.00        21\\n         55       1.00      1.00      1.00        19\\n         56       1.00      1.00      1.00        28\\n         57       1.00      1.00      1.00        22\\n         58       0.92      1.00      0.96        22\\n         59       0.95      1.00      0.98        21\\n         60       1.00      1.00      1.00        22\\n         61       1.00      1.00      1.00        15\\n         62       0.95      1.00      0.97        19\\n         63       1.00      1.00      1.00        26\\n         64       1.00      1.00      1.00        27\\n         65       1.00      1.00      1.00        18\\n         66       1.00      1.00      1.00        22\\n         67       1.00      1.00      1.00        19\\n         68       1.00      1.00      1.00        18\\n         69       1.00      1.00      1.00        18\\n         70       1.00      1.00      1.00        24\\n         71       1.00      1.00      1.00        26\\n         72       1.00      1.00      1.00        18\\n         73       1.00      1.00      1.00        23\\n         74       1.00      1.00      1.00        14\\n         75       1.00      1.00      1.00        20\\n         76       1.00      1.00      1.00        15\\n         77       1.00      1.00      1.00        17\\n         78       0.95      1.00      0.97        18\\n         79       1.00      0.96      0.98        28\\n         80       1.00      1.00      1.00        22\\n         81       1.00      1.00      1.00        13\\n         82       1.00      1.00      1.00        21\\n         83       1.00      1.00      1.00        20\\n         84       1.00      1.00      1.00        18\\n         85       1.00      1.00      1.00        19\\n         86       1.00      1.00      1.00        19\\n         87       1.00      1.00      1.00        25\\n         88       1.00      1.00      1.00        22\\n         89       1.00      1.00      1.00        17\\n         90       1.00      1.00      1.00        21\\n         91       1.00      1.00      1.00        17\\n         92       1.00      1.00      1.00        13\\n         93       0.73      0.44      0.55        18\\n\\navg / total       0.99      0.99      0.99      1880\\n'"
      ]
     },
     "execution_count": 4,
     "metadata": {},
     "output_type": "execute_result"
    }
   ],
   "source": [
    "expected, predicted = y_test, clf.predict(x_test)\n",
    "\n",
    "from sklearn.metrics import classification_report\n",
    "classification_report(expected, predicted)"
   ]
  },
  {
   "cell_type": "code",
   "execution_count": 5,
   "metadata": {
    "collapsed": false
   },
   "outputs": [
    {
     "data": {
      "text/plain": [
       "0.99308510638297876"
      ]
     },
     "execution_count": 5,
     "metadata": {},
     "output_type": "execute_result"
    }
   ],
   "source": [
    "from sklearn.metrics import accuracy_score\n",
    "accuracy_score(expected, predicted)"
   ]
  }
 ],
 "metadata": {
  "kernelspec": {
   "display_name": "Python [default]",
   "language": "python",
   "name": "python3"
  },
  "language_info": {
   "codemirror_mode": {
    "name": "ipython",
    "version": 3
   },
   "file_extension": ".py",
   "mimetype": "text/x-python",
   "name": "python",
   "nbconvert_exporter": "python",
   "pygments_lexer": "ipython3",
   "version": "3.5.2"
  }
 },
 "nbformat": 4,
 "nbformat_minor": 2
}
