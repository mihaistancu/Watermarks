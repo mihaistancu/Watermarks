{
 "cells": [
  {
   "cell_type": "code",
   "execution_count": null,
   "metadata": {
    "collapsed": false
   },
   "outputs": [
    {
     "name": "stdout",
     "output_type": "stream",
     "text": [
      "Fitting 3 folds for each of 12 candidates, totalling 36 fits\n"
     ]
    },
    {
     "name": "stderr",
     "output_type": "stream",
     "text": [
      "[Parallel(n_jobs=1)]: Done  36 out of  36 | elapsed: 15.0min finished\n"
     ]
    },
    {
     "name": "stdout",
     "output_type": "stream",
     "text": [
      "Fitting 3 folds for each of 12 candidates, totalling 36 fits\n"
     ]
    }
   ],
   "source": [
    "from sklearn.model_selection import GridSearchCV\n",
    "from sklearn.neural_network import MLPClassifier\n",
    "from sklearn.externals import joblib\n",
    "import glob\n",
    "\n",
    "def train_ann(dataset_name):    \n",
    "    x_train, x_test, y_train, y_test = joblib.load(dataset_name)\n",
    "\n",
    "    tuned_parameters = [{'activation':['relu','logistic'], \n",
    "                         'learning_rate_init':[0.1, 0.01, 0.001],\n",
    "                         'momentum':[0.5, 0.9]}]\n",
    "\n",
    "    clf = GridSearchCV(MLPClassifier(), tuned_parameters, verbose=True)\n",
    "    clf.fit(x_train, y_train)\n",
    "\n",
    "    joblib.dump(clf, 'ann_model_' + dataset_name)\n",
    "    \n",
    "for dataset_name in glob.glob('dataset*.pkl'):\n",
    "    train_ann(dataset_name)"
   ]
  }
 ],
 "metadata": {
  "kernelspec": {
   "display_name": "Python [conda root]",
   "language": "python",
   "name": "conda-root-py"
  },
  "language_info": {
   "codemirror_mode": {
    "name": "ipython",
    "version": 3
   },
   "file_extension": ".py",
   "mimetype": "text/x-python",
   "name": "python",
   "nbconvert_exporter": "python",
   "pygments_lexer": "ipython3",
   "version": "3.5.2"
  }
 },
 "nbformat": 4,
 "nbformat_minor": 2
}
