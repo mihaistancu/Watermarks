{
 "cells": [
  {
   "cell_type": "code",
   "execution_count": 1,
   "metadata": {
    "collapsed": false
   },
   "outputs": [],
   "source": [
    "from myutils import generate_dataset\n",
    "x, y = generate_dataset()"
   ]
  },
  {
   "cell_type": "code",
   "execution_count": 2,
   "metadata": {
    "collapsed": false
   },
   "outputs": [],
   "source": [
    "from sklearn.model_selection import train_test_split\n",
    "x_train, x_test, y_train, y_test = train_test_split(x, y, test_size=0.2)"
   ]
  },
  {
   "cell_type": "code",
   "execution_count": 3,
   "metadata": {
    "collapsed": false,
    "scrolled": true
   },
   "outputs": [
    {
     "data": {
      "text/plain": [
       "{'mean_fit_time': array([ 136.72002029,  122.9803489 ,  138.68784722,   96.19747353,\n",
       "         137.17814541,   95.12313302,  136.53382119,   93.4331038 ,\n",
       "          89.22535594,   88.95997286,   88.79063598,   88.65788603]),\n",
       " 'mean_score_time': array([ 40.40190816,  47.25456603,  40.58555444,  35.22536159,\n",
       "         40.16672993,  34.78758248,  39.82321922,  35.70755657,\n",
       "         33.28754862,  33.65179197,  33.65689214,  33.70537106]),\n",
       " 'mean_test_score': array([ 0.88643617,  0.79175532,  0.90398936,  0.94601064,  0.90398936,\n",
       "         0.94601064,  0.90398936,  0.94601064,  0.93882979,  0.93882979,\n",
       "         0.93882979,  0.93882979]),\n",
       " 'mean_train_score': array([ 1.        ,  0.88983555,  1.        ,  1.        ,  1.        ,\n",
       "         1.        ,  1.        ,  1.        ,  1.        ,  1.        ,\n",
       "         1.        ,  1.        ]),\n",
       " 'param_C': masked_array(data = [1 1 10 10 100 100 1000 1000 1 10 100 1000],\n",
       "              mask = [False False False False False False False False False False False False],\n",
       "        fill_value = ?),\n",
       " 'param_gamma': masked_array(data = [0.001 0.0001 0.001 0.0001 0.001 0.0001 0.001 0.0001 -- -- -- --],\n",
       "              mask = [False False False False False False False False  True  True  True  True],\n",
       "        fill_value = ?),\n",
       " 'param_kernel': masked_array(data = ['rbf' 'rbf' 'rbf' 'rbf' 'rbf' 'rbf' 'rbf' 'rbf' 'linear' 'linear' 'linear'\n",
       "  'linear'],\n",
       "              mask = [False False False False False False False False False False False False],\n",
       "        fill_value = ?),\n",
       " 'params': ({'C': 1, 'gamma': 0.001, 'kernel': 'rbf'},\n",
       "  {'C': 1, 'gamma': 0.0001, 'kernel': 'rbf'},\n",
       "  {'C': 10, 'gamma': 0.001, 'kernel': 'rbf'},\n",
       "  {'C': 10, 'gamma': 0.0001, 'kernel': 'rbf'},\n",
       "  {'C': 100, 'gamma': 0.001, 'kernel': 'rbf'},\n",
       "  {'C': 100, 'gamma': 0.0001, 'kernel': 'rbf'},\n",
       "  {'C': 1000, 'gamma': 0.001, 'kernel': 'rbf'},\n",
       "  {'C': 1000, 'gamma': 0.0001, 'kernel': 'rbf'},\n",
       "  {'C': 1, 'kernel': 'linear'},\n",
       "  {'C': 10, 'kernel': 'linear'},\n",
       "  {'C': 100, 'kernel': 'linear'},\n",
       "  {'C': 1000, 'kernel': 'linear'}),\n",
       " 'rank_test_score': array([11, 12,  8,  1,  8,  1,  8,  1,  4,  4,  4,  4], dtype=int32),\n",
       " 'split0_test_score': array([ 0.87534517,  0.78619329,  0.89072978,  0.94240631,  0.89072978,\n",
       "         0.94240631,  0.89072978,  0.94240631,  0.93451677,  0.93451677,\n",
       "         0.93451677,  0.93451677]),\n",
       " 'split0_train_score': array([ 1.        ,  0.89689067,  1.        ,  1.        ,  1.        ,\n",
       "         1.        ,  1.        ,  1.        ,  1.        ,  1.        ,\n",
       "         1.        ,  1.        ]),\n",
       " 'split1_test_score': array([ 0.88601036,  0.79194898,  0.90554006,  0.94778796,  0.90554006,\n",
       "         0.94778796,  0.90554006,  0.94778796,  0.94340375,  0.94340375,\n",
       "         0.94340375,  0.94340375]),\n",
       " 'split1_train_score': array([ 1.        ,  0.88106166,  1.        ,  1.        ,  1.        ,\n",
       "         1.        ,  1.        ,  1.        ,  1.        ,  1.        ,\n",
       "         1.        ,  1.        ]),\n",
       " 'split2_test_score': array([ 0.89822294,  0.79725363,  0.91599354,  0.94789984,  0.91599354,\n",
       "         0.94789984,  0.91599354,  0.94789984,  0.93861066,  0.93861066,\n",
       "         0.93861066,  0.93861066]),\n",
       " 'split2_train_score': array([ 1.        ,  0.89155432,  1.        ,  1.        ,  1.        ,\n",
       "         1.        ,  1.        ,  1.        ,  1.        ,  1.        ,\n",
       "         1.        ,  1.        ]),\n",
       " 'std_fit_time': array([ 0.90593221,  0.49073219,  1.43044693,  1.29661407,  1.59746276,\n",
       "         1.95013673,  1.6433485 ,  1.32167389,  0.37946957,  1.50163146,\n",
       "         1.12220831,  0.49912623]),\n",
       " 'std_score_time': array([ 0.4438585 ,  0.46320109,  0.69821792,  0.72998146,  0.54914892,\n",
       "         0.92357599,  0.81082649,  0.55442595,  0.18691826,  0.90160687,\n",
       "         0.88780269,  0.24896297]),\n",
       " 'std_test_score': array([ 0.00934185,  0.00451608,  0.01036899,  0.00257068,  0.01036899,\n",
       "         0.00257068,  0.01036899,  0.00257068,  0.00364236,  0.00364236,\n",
       "         0.00364236,  0.00364236]),\n",
       " 'std_train_score': array([ 0.        ,  0.00657546,  0.        ,  0.        ,  0.        ,\n",
       "         0.        ,  0.        ,  0.        ,  0.        ,  0.        ,\n",
       "         0.        ,  0.        ])}"
      ]
     },
     "execution_count": 3,
     "metadata": {},
     "output_type": "execute_result"
    }
   ],
   "source": [
    "from sklearn.model_selection import GridSearchCV\n",
    "from sklearn.svm import SVC\n",
    "\n",
    "tuned_parameters = [{'kernel': ['rbf'], 'gamma': [1e-3, 1e-4],\n",
    "                     'C': [1, 10, 100, 1000]},\n",
    "                    {'kernel': ['linear'], 'C': [1, 10, 100, 1000]}]\n",
    "\n",
    "clf = GridSearchCV(SVC(), tuned_parameters)\n",
    "clf.fit(x_train, y_train)\n",
    "\n",
    "clf.cv_results_"
   ]
  },
  {
   "cell_type": "code",
   "execution_count": 4,
   "metadata": {
    "collapsed": false
   },
   "outputs": [
    {
     "data": {
      "text/plain": [
       "'             precision    recall  f1-score   support\\n\\n          0       1.00      1.00      1.00        16\\n          1       1.00      1.00      1.00        18\\n          2       1.00      1.00      1.00        21\\n          3       1.00      1.00      1.00        23\\n          4       1.00      0.86      0.92        21\\n          5       1.00      1.00      1.00        16\\n          6       1.00      0.91      0.95        22\\n          7       1.00      1.00      1.00        18\\n          8       1.00      1.00      1.00        22\\n          9       1.00      0.96      0.98        27\\n         10       1.00      0.96      0.98        23\\n         11       1.00      0.96      0.98        23\\n         12       1.00      0.96      0.98        23\\n         13       1.00      1.00      1.00        15\\n         14       1.00      0.94      0.97        18\\n         15       1.00      1.00      1.00        26\\n         16       1.00      1.00      1.00        31\\n         17       1.00      1.00      1.00        19\\n         18       1.00      0.95      0.97        19\\n         19       1.00      1.00      1.00        17\\n         20       1.00      1.00      1.00        14\\n         21       1.00      0.95      0.97        20\\n         22       1.00      0.95      0.97        20\\n         23       1.00      0.95      0.97        20\\n         24       1.00      1.00      1.00        17\\n         25       1.00      0.93      0.97        15\\n         26       1.00      1.00      1.00        16\\n         27       1.00      1.00      1.00        17\\n         28       1.00      0.96      0.98        25\\n         29       1.00      0.91      0.95        22\\n         30       1.00      0.89      0.94        18\\n         31       1.00      0.96      0.98        28\\n         32       1.00      0.91      0.95        23\\n         33       1.00      1.00      1.00        19\\n         34       1.00      1.00      1.00        18\\n         35       1.00      0.96      0.98        23\\n         36       1.00      1.00      1.00        16\\n         37       1.00      1.00      1.00        16\\n         38       1.00      1.00      1.00        17\\n         39       1.00      1.00      1.00        19\\n         40       1.00      1.00      1.00        19\\n         41       1.00      0.93      0.97        30\\n         42       1.00      0.94      0.97        18\\n         43       1.00      1.00      1.00        18\\n         44       1.00      0.91      0.95        32\\n         45       1.00      1.00      1.00        15\\n         46       1.00      0.81      0.90        16\\n         47       1.00      1.00      1.00        13\\n         48       1.00      1.00      1.00        20\\n         49       1.00      1.00      1.00        20\\n         50       1.00      1.00      1.00        13\\n         51       1.00      1.00      1.00        19\\n         52       1.00      1.00      1.00        11\\n         53       1.00      1.00      1.00        23\\n         54       1.00      0.92      0.96        24\\n         55       1.00      1.00      1.00        19\\n         56       1.00      0.95      0.97        19\\n         57       1.00      0.95      0.97        19\\n         58       1.00      1.00      1.00        17\\n         59       1.00      1.00      1.00        19\\n         60       1.00      0.93      0.96        28\\n         61       1.00      1.00      1.00        15\\n         62       1.00      0.88      0.94        17\\n         63       1.00      0.96      0.98        27\\n         64       1.00      1.00      1.00        16\\n         65       1.00      0.95      0.97        19\\n         66       1.00      1.00      1.00        25\\n         67       1.00      1.00      1.00        19\\n         68       1.00      0.89      0.94        19\\n         69       1.00      1.00      1.00        18\\n         70       1.00      1.00      1.00        21\\n         71       1.00      1.00      1.00        20\\n         72       1.00      0.93      0.96        27\\n         73       1.00      0.96      0.98        26\\n         74       1.00      0.89      0.94        19\\n         75       1.00      0.90      0.95        20\\n         76       1.00      0.90      0.95        21\\n         77       1.00      1.00      1.00        17\\n         78       1.00      0.95      0.97        20\\n         79       1.00      0.89      0.94        18\\n         80       1.00      0.95      0.98        22\\n         81       1.00      1.00      1.00        18\\n         82       1.00      0.95      0.98        22\\n         83       1.00      0.95      0.97        19\\n         84       1.00      0.93      0.96        27\\n         85       1.00      0.95      0.97        20\\n         86       1.00      0.96      0.98        23\\n         87       1.00      1.00      1.00        13\\n         88       1.00      0.91      0.95        23\\n         89       1.00      1.00      1.00        18\\n         90       1.00      0.95      0.97        20\\n         91       1.00      1.00      1.00        21\\n         92       1.00      0.96      0.98        23\\n         93       0.17      1.00      0.29        14\\n\\navg / total       0.99      0.96      0.98      1880\\n'"
      ]
     },
     "execution_count": 4,
     "metadata": {},
     "output_type": "execute_result"
    }
   ],
   "source": [
    "expected, predicted = y_test, clf.predict(x_test)\n",
    "\n",
    "from sklearn.metrics import classification_report\n",
    "classification_report(expected, predicted)"
   ]
  },
  {
   "cell_type": "code",
   "execution_count": 5,
   "metadata": {
    "collapsed": false
   },
   "outputs": [
    {
     "data": {
      "text/plain": [
       "0.96382978723404256"
      ]
     },
     "execution_count": 5,
     "metadata": {},
     "output_type": "execute_result"
    }
   ],
   "source": [
    "from sklearn.metrics import accuracy_score\n",
    "accuracy_score(expected, predicted)"
   ]
  }
 ],
 "metadata": {
  "kernelspec": {
   "display_name": "Python [default]",
   "language": "python",
   "name": "python3"
  },
  "language_info": {
   "codemirror_mode": {
    "name": "ipython",
    "version": 3
   },
   "file_extension": ".py",
   "mimetype": "text/x-python",
   "name": "python",
   "nbconvert_exporter": "python",
   "pygments_lexer": "ipython3",
   "version": "3.5.2"
  }
 },
 "nbformat": 4,
 "nbformat_minor": 2
}
