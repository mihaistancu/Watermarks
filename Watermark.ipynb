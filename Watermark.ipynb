{
 "cells": [
  {
   "cell_type": "code",
   "execution_count": null,
   "metadata": {
    "collapsed": false
   },
   "outputs": [],
   "source": [
    "import numpy as np\n",
    "from scipy.fftpack import dct \n",
    "from scipy.fftpack import idct \n",
    "from scipy.misc import imread\n",
    "from skimage.util.shape import view_as_blocks\n",
    "import matplotlib.pyplot as plot\n",
    " \n",
    "def dct2(image):\n",
    "    return dct(dct(image.T, norm='ortho').T, norm='ortho')\n",
    "\n",
    "def idct2(coefficients):\n",
    "    return idct(idct(coefficients.T, norm='ortho').T, norm='ortho')\n",
    "\n",
    "def split_blocks(image, block_size):\n",
    "    return view_as_blocks(green_channel, block_shape=(block_size, block_size))\n",
    "\n",
    "def transform_blocks(blocks):\n",
    "    return np.array([[transform(block) for block in line] for line in blocks])\n",
    "    \n",
    "def join_blocks(blocks):\n",
    "    return blocks.swapaxes(1, 2).reshape(blocks.shape[0]*blocks.shape[2], -1)\n",
    "\n",
    "def transform(block):\n",
    "    return idct2(dct2(block)) + 10\n",
    "    \n",
    "    \n",
    "image = imread('Lenna.png')\n",
    "green_channel = np.array(image[:,:,1])\n",
    "blocks = split_blocks(green_channel, 64)\n",
    "blocks = transform_blocks(blocks) \n",
    "green_channel = join_blocks(blocks)\n",
    "image[:,:,1] = green_channel\n",
    "plot.imshow(image)\n",
    "plot.show()"
   ]
  }
 ],
 "metadata": {
  "kernelspec": {
   "display_name": "Python [conda root]",
   "language": "python",
   "name": "conda-root-py"
  },
  "language_info": {
   "codemirror_mode": {
    "name": "ipython",
    "version": 3
   },
   "file_extension": ".py",
   "mimetype": "text/x-python",
   "name": "python",
   "nbconvert_exporter": "python",
   "pygments_lexer": "ipython3",
   "version": "3.5.2"
  }
 },
 "nbformat": 4,
 "nbformat_minor": 2
}
